{
 "cells": [
  {
   "cell_type": "code",
   "execution_count": null,
   "id": "b91e573d-555e-4842-baba-45d599d00890",
   "metadata": {},
   "outputs": [
    {
     "name": "stdout",
     "output_type": "stream",
     "text": [
      "Mean Squared Error: 4.065651812130178\n",
      " * Serving Flask app '__main__'\n",
      " * Debug mode: off\n"
     ]
    },
    {
     "name": "stderr",
     "output_type": "stream",
     "text": [
      "WARNING: This is a development server. Do not use it in a production deployment. Use a production WSGI server instead.\n",
      " * Running on http://127.0.0.1:5000\n",
      "Press CTRL+C to quit\n",
      "127.0.0.1 - - [30/Jan/2025 19:37:25] \"GET / HTTP/1.1\" 200 -\n",
      "127.0.0.1 - - [30/Jan/2025 19:37:25] \"GET /favicon.ico HTTP/1.1\" 404 -\n",
      "C:\\Users\\bhava\\anaconda3\\Lib\\site-packages\\sklearn\\base.py:493: UserWarning: X does not have valid feature names, but LinearRegression was fitted with feature names\n",
      "  warnings.warn(\n",
      "127.0.0.1 - - [30/Jan/2025 19:37:48] \"POST /predict HTTP/1.1\" 200 -\n",
      "127.0.0.1 - - [30/Jan/2025 19:38:26] \"GET / HTTP/1.1\" 200 -\n"
     ]
    }
   ],
   "source": [
    "import numpy as np\n",
    "import pandas as pd\n",
    "from sklearn.model_selection import train_test_split\n",
    "from sklearn.linear_model import LinearRegression\n",
    "from sklearn.metrics import mean_squared_error\n",
    "from flask import Flask, render_template, request\n",
    "import webbrowser\n",
    "import threading\n",
    "\n",
    "data = pd.DataFrame({\n",
    "    'distance_km': [10, 25, 50, 100, 150],\n",
    "    'transport_mode': [1, 2, 1, 2, 1],\n",
    "    'carbon_emission_kg': [2.1, 3.2, 6.0, 12.5, 15.7]\n",
    "})\n",
    "\n",
    "X = data[['distance_km', 'transport_mode']]\n",
    "y = data['carbon_emission_kg']\n",
    "\n",
    "X_train, X_test, y_train, y_test = train_test_split(X, y, test_size=0.2, random_state=42)\n",
    "\n",
    "model = LinearRegression()\n",
    "model.fit(X_train, y_train)\n",
    "\n",
    "y_pred = model.predict(X_test)\n",
    "print(\"Mean Squared Error:\", mean_squared_error(y_test, y_pred))\n",
    "\n",
    "app = Flask(__name__)\n",
    "\n",
    "@app.route('/')\n",
    "def index():\n",
    "    return '''\n",
    "        <h1>Carbon Footprint Calculator</h1>\n",
    "        <form action=\"/predict\" method=\"POST\">\n",
    "            <label for=\"distance\">Distance (in km):</label>\n",
    "            <input type=\"number\" name=\"distance\" required>\n",
    "            <label for=\"mode\">Transport Mode (1 for car, 2 for bus):</label>\n",
    "            <input type=\"number\" name=\"mode\" required>\n",
    "            <input type=\"submit\" value=\"Calculate\">\n",
    "        </form>\n",
    "    '''\n",
    "\n",
    "@app.route('/predict', methods=['POST'])\n",
    "def predict():\n",
    "    distance = float(request.form['distance'])\n",
    "    mode = int(request.form['mode'])\n",
    "    prediction = model.predict(np.array([[distance, mode]]))[0]\n",
    "    return f\"<h1>Predicted Carbon Emission: {prediction:.2f} kg CO2</h1>\"\n",
    "\n",
    "def run_server():\n",
    "    app.run()\n",
    "\n",
    "def open_browser():\n",
    "    webbrowser.open_new(\"http://127.0.0.1:5000\")\n",
    "\n",
    "if __name__ == \"__main__\":\n",
    "    threading.Thread(target=open_browser).start()\n",
    "    run_server()"
   ]
  },
  {
   "cell_type": "code",
   "execution_count": null,
   "id": "a8581792-2777-4bf8-99ea-2fe01950f2ee",
   "metadata": {},
   "outputs": [],
   "source": []
  }
 ],
 "metadata": {
  "kernelspec": {
   "display_name": "Python 3 (ipykernel)",
   "language": "python",
   "name": "python3"
  },
  "language_info": {
   "codemirror_mode": {
    "name": "ipython",
    "version": 3
   },
   "file_extension": ".py",
   "mimetype": "text/x-python",
   "name": "python",
   "nbconvert_exporter": "python",
   "pygments_lexer": "ipython3",
   "version": "3.12.4"
  }
 },
 "nbformat": 4,
 "nbformat_minor": 5
}
